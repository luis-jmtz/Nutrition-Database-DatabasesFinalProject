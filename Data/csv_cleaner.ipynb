{
 "cells": [
  {
   "cell_type": "code",
   "execution_count": 1,
   "id": "72ee5545-24bb-4e86-9629-8b458e8559f7",
   "metadata": {},
   "outputs": [],
   "source": [
    "import pandas as pd"
   ]
  },
  {
   "cell_type": "code",
   "execution_count": 3,
   "id": "d2e71ea2-51a7-4e47-9cdb-b56acac95a4e",
   "metadata": {},
   "outputs": [],
   "source": [
    "df = pd.read_csv(fr\"C:\\Users\\Main\\Desktop\\FINAL_FOOD_DATASET\\FOOD-DATA-GROUP1.csv\")"
   ]
  },
  {
   "cell_type": "code",
   "execution_count": 7,
   "id": "6036bab8-c0dd-43f6-bf50-e20548f7ad62",
   "metadata": {},
   "outputs": [
    {
     "data": {
      "text/plain": [
       "Index(['Unnamed: 0.1', 'Unnamed: 0', 'food', 'Caloric Value', 'Fat',\n",
       "       'Saturated Fats', 'Monounsaturated Fats', 'Polyunsaturated Fats',\n",
       "       'Carbohydrates', 'Sugars', 'Protein', 'Dietary Fiber', 'Cholesterol',\n",
       "       'Sodium', 'Water', 'Vitamin A', 'Vitamin B1', 'Vitamin B11',\n",
       "       'Vitamin B12', 'Vitamin B2', 'Vitamin B3', 'Vitamin B5', 'Vitamin B6',\n",
       "       'Vitamin C', 'Vitamin D', 'Vitamin E', 'Vitamin K', 'Calcium', 'Copper',\n",
       "       'Iron', 'Magnesium', 'Manganese', 'Phosphorus', 'Potassium', 'Selenium',\n",
       "       'Zinc', 'Nutrition Density'],\n",
       "      dtype='object')"
      ]
     },
     "execution_count": 7,
     "metadata": {},
     "output_type": "execute_result"
    }
   ],
   "source": [
    "# df.head\n",
    "df.columns"
   ]
  },
  {
   "cell_type": "code",
   "execution_count": 8,
   "id": "409b4d9b-e8cd-434e-b36c-6e6ff8162c47",
   "metadata": {},
   "outputs": [
    {
     "data": {
      "text/plain": [
       "Index(['food', 'Caloric Value', 'Fat', 'Saturated Fats',\n",
       "       'Monounsaturated Fats', 'Polyunsaturated Fats', 'Carbohydrates',\n",
       "       'Sugars', 'Protein', 'Dietary Fiber', 'Cholesterol', 'Sodium', 'Water',\n",
       "       'Vitamin A', 'Vitamin B1', 'Vitamin B11', 'Vitamin B12', 'Vitamin B2',\n",
       "       'Vitamin B3', 'Vitamin B5', 'Vitamin B6', 'Vitamin C', 'Vitamin D',\n",
       "       'Vitamin E', 'Vitamin K', 'Calcium', 'Copper', 'Iron', 'Magnesium',\n",
       "       'Manganese', 'Phosphorus', 'Potassium', 'Selenium', 'Zinc',\n",
       "       'Nutrition Density'],\n",
       "      dtype='object')"
      ]
     },
     "execution_count": 8,
     "metadata": {},
     "output_type": "execute_result"
    }
   ],
   "source": [
    "df.drop(columns=['Unnamed: 0.1', 'Unnamed: 0'], inplace=True)\n",
    "df.columns"
   ]
  },
  {
   "cell_type": "code",
   "execution_count": 9,
   "id": "470b0fdf-a697-473c-9bda-d9f32947eac9",
   "metadata": {},
   "outputs": [],
   "source": [
    "df.to_csv('subset1.csv', index=False)"
   ]
  },
  {
   "cell_type": "code",
   "execution_count": 15,
   "id": "5616d447-bb6c-4179-a412-3ed10346afd8",
   "metadata": {},
   "outputs": [
    {
     "name": "stdout",
     "output_type": "stream",
     "text": [
      "Processed and saved: subset2.csv\n",
      "Processed and saved: subset3.csv\n",
      "Processed and saved: subset4.csv\n",
      "Processed and saved: subset5.csv\n"
     ]
    }
   ],
   "source": [
    "base_path = r\"C:\\Users\\Main\\Desktop\\FINAL_FOOD_DATASET\\FOOD-DATA-GROUP{}.csv\"\n",
    "\n",
    "for i in range(2,6):\n",
    "    file_path = base_path.format(i)\n",
    "    df = pd.read_csv(file_path)\n",
    "    df.drop(columns=['Unnamed: 0.1', 'Unnamed: 0'], inplace=True)\n",
    "\n",
    "    output_path = f\"subset{i}.csv\"\n",
    "    df.to_csv(output_path, index=False)\n",
    "    print(f\"Processed and saved: {output_path}\")\n",
    "    "
   ]
  },
  {
   "cell_type": "code",
   "execution_count": null,
   "id": "6e34356b-0682-46ef-948d-7c244c7ae7cf",
   "metadata": {},
   "outputs": [],
   "source": []
  }
 ],
 "metadata": {
  "kernelspec": {
   "display_name": "Python 3 (ipykernel)",
   "language": "python",
   "name": "python3"
  },
  "language_info": {
   "codemirror_mode": {
    "name": "ipython",
    "version": 3
   },
   "file_extension": ".py",
   "mimetype": "text/x-python",
   "name": "python",
   "nbconvert_exporter": "python",
   "pygments_lexer": "ipython3",
   "version": "3.12.7"
  }
 },
 "nbformat": 4,
 "nbformat_minor": 5
}
